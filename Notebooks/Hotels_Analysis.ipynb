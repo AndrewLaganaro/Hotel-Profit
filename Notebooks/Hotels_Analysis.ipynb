{
 "cells": [
  {
   "cell_type": "code",
   "execution_count": 1,
   "metadata": {},
   "outputs": [],
   "source": [
    "import pandas as pd\n",
    "from pprint import pprint\n",
    "from dateutil.relativedelta import relativedelta\n",
    "import numpy as np"
   ]
  },
  {
   "cell_type": "code",
   "execution_count": 2,
   "metadata": {},
   "outputs": [
    {
     "data": {
      "text/html": [
       "<div>\n",
       "<style scoped>\n",
       "    .dataframe tbody tr th:only-of-type {\n",
       "        vertical-align: middle;\n",
       "    }\n",
       "\n",
       "    .dataframe tbody tr th {\n",
       "        vertical-align: top;\n",
       "    }\n",
       "\n",
       "    .dataframe thead th {\n",
       "        text-align: right;\n",
       "    }\n",
       "</style>\n",
       "<table border=\"1\" class=\"dataframe\">\n",
       "  <thead>\n",
       "    <tr style=\"text-align: right;\">\n",
       "      <th></th>\n",
       "      <th>No. reserva</th>\n",
       "      <th>Vlr. diária</th>\n",
       "      <th>UH</th>\n",
       "      <th>Nome fantasia</th>\n",
       "      <th>Razão social</th>\n",
       "      <th>Localizador</th>\n",
       "    </tr>\n",
       "  </thead>\n",
       "  <tbody>\n",
       "    <tr>\n",
       "      <th>count</th>\n",
       "      <td>9.576000e+03</td>\n",
       "      <td>9576.000000</td>\n",
       "      <td>8349.000000</td>\n",
       "      <td>7837.000000</td>\n",
       "      <td>9565.000000</td>\n",
       "      <td>0.0</td>\n",
       "    </tr>\n",
       "    <tr>\n",
       "      <th>mean</th>\n",
       "      <td>3.469052e+08</td>\n",
       "      <td>389.234124</td>\n",
       "      <td>769.151755</td>\n",
       "      <td>11.473906</td>\n",
       "      <td>29.998850</td>\n",
       "      <td>NaN</td>\n",
       "    </tr>\n",
       "    <tr>\n",
       "      <th>std</th>\n",
       "      <td>2.405547e+07</td>\n",
       "      <td>222.385478</td>\n",
       "      <td>299.084096</td>\n",
       "      <td>17.475257</td>\n",
       "      <td>56.618728</td>\n",
       "      <td>NaN</td>\n",
       "    </tr>\n",
       "    <tr>\n",
       "      <th>min</th>\n",
       "      <td>3.114881e+08</td>\n",
       "      <td>0.000000</td>\n",
       "      <td>301.000000</td>\n",
       "      <td>1.000000</td>\n",
       "      <td>1.000000</td>\n",
       "      <td>NaN</td>\n",
       "    </tr>\n",
       "    <tr>\n",
       "      <th>25%</th>\n",
       "      <td>3.427951e+08</td>\n",
       "      <td>300.000000</td>\n",
       "      <td>509.000000</td>\n",
       "      <td>2.000000</td>\n",
       "      <td>2.000000</td>\n",
       "      <td>NaN</td>\n",
       "    </tr>\n",
       "    <tr>\n",
       "      <th>50%</th>\n",
       "      <td>3.470816e+08</td>\n",
       "      <td>357.210000</td>\n",
       "      <td>712.000000</td>\n",
       "      <td>3.000000</td>\n",
       "      <td>3.000000</td>\n",
       "      <td>NaN</td>\n",
       "    </tr>\n",
       "    <tr>\n",
       "      <th>75%</th>\n",
       "      <td>3.504042e+08</td>\n",
       "      <td>437.000000</td>\n",
       "      <td>1004.000000</td>\n",
       "      <td>11.000000</td>\n",
       "      <td>22.000000</td>\n",
       "      <td>NaN</td>\n",
       "    </tr>\n",
       "    <tr>\n",
       "      <th>max</th>\n",
       "      <td>2.660469e+09</td>\n",
       "      <td>5000.000000</td>\n",
       "      <td>1312.000000</td>\n",
       "      <td>84.000000</td>\n",
       "      <td>278.000000</td>\n",
       "      <td>NaN</td>\n",
       "    </tr>\n",
       "  </tbody>\n",
       "</table>\n",
       "</div>"
      ],
      "text/plain": [
       "        No. reserva  Vlr. diária           UH  Nome fantasia  Razão social  \\\n",
       "count  9.576000e+03  9576.000000  8349.000000    7837.000000   9565.000000   \n",
       "mean   3.469052e+08   389.234124   769.151755      11.473906     29.998850   \n",
       "std    2.405547e+07   222.385478   299.084096      17.475257     56.618728   \n",
       "min    3.114881e+08     0.000000   301.000000       1.000000      1.000000   \n",
       "25%    3.427951e+08   300.000000   509.000000       2.000000      2.000000   \n",
       "50%    3.470816e+08   357.210000   712.000000       3.000000      3.000000   \n",
       "75%    3.504042e+08   437.000000  1004.000000      11.000000     22.000000   \n",
       "max    2.660469e+09  5000.000000  1312.000000      84.000000    278.000000   \n",
       "\n",
       "       Localizador  \n",
       "count          0.0  \n",
       "mean           NaN  \n",
       "std            NaN  \n",
       "min            NaN  \n",
       "25%            NaN  \n",
       "50%            NaN  \n",
       "75%            NaN  \n",
       "max            NaN  "
      ]
     },
     "execution_count": 2,
     "metadata": {},
     "output_type": "execute_result"
    }
   ],
   "source": [
    "Hotel_Profit_Raw = pd.read_excel('..\\Data\\Hotel_Income_Raw.xlsx')\n",
    "\n",
    "Hotel_Profit_Raw.describe()"
   ]
  },
  {
   "cell_type": "code",
   "execution_count": 3,
   "metadata": {},
   "outputs": [
    {
     "data": {
      "text/plain": [
       "9576"
      ]
     },
     "execution_count": 3,
     "metadata": {},
     "output_type": "execute_result"
    }
   ],
   "source": [
    "Hotel_Profit_Raw.shape[0]"
   ]
  },
  {
   "cell_type": "code",
   "execution_count": 4,
   "metadata": {},
   "outputs": [
    {
     "data": {
      "text/plain": [
       "Index(['No. reserva', 'Status', 'Tipo UH', 'Vlr. diária', 'UH', 'Garantida',\n",
       "       'Chegada', 'Partida', 'Nome fantasia', 'Razão social', 'Segmento',\n",
       "       'Tarifa', 'Origem', 'Tipo hóspede', 'Adt | C1 | C2', 'Dt. reserva',\n",
       "       'Localizador', 'Dt. Cancelamento'],\n",
       "      dtype='object')"
      ]
     },
     "execution_count": 4,
     "metadata": {},
     "output_type": "execute_result"
    }
   ],
   "source": [
    "Hotel_Profit_Raw.drop_duplicates(inplace=True)\n",
    "raw_columns = Hotel_Profit_Raw.columns\n",
    "raw_columns"
   ]
  },
  {
   "cell_type": "code",
   "execution_count": 5,
   "metadata": {},
   "outputs": [
    {
     "data": {
      "text/plain": [
       "7704"
      ]
     },
     "execution_count": 5,
     "metadata": {},
     "output_type": "execute_result"
    }
   ],
   "source": [
    "Hotel_Profit_Raw.shape[0]"
   ]
  },
  {
   "cell_type": "code",
   "execution_count": 6,
   "metadata": {},
   "outputs": [
    {
     "name": "stdout",
     "output_type": "stream",
     "text": [
      "\n",
      "Unique Room Types: \n",
      "['SSNN / AABB' 'AAEE / AAEE' 'UUNN / UUNN' 'UUNN / AAEE' 'SSNN / SSNN'\n",
      " 'BBBB / SSBB' 'AAEE / UUNN' 'SSBB / AABB' 'SSBB / UUNN' 'BBKK / AAEE'\n",
      " 'SSBB / SSNN' 'SSNN / BBKK' 'SSBB / SSBB' 'AAEE / BBKK' 'BBKK / BBBB'\n",
      " 'SSNN / AAEE' 'UUHH / UUHH' 'BBBB / BBBB' 'SSQQ / SSQQ' 'SSNN / UUNN'\n",
      " 'SSBB / AAEE' 'UUHH / UUNN' 'AABB / AABB' 'AABB / AAEE' 'SSQQ / AAEE'\n",
      " 'BBKK / SSNN' 'AABB / SSNN' 'UUHH / AAEE' 'SSQQ / AABB' 'RRNN / RRNN'\n",
      " 'AABB / UUNN' 'AAEE / AABB' 'BBKK / AABB' 'UUHH / AABB' 'UUNN / SSBB'\n",
      " 'UUNN / SSNN' 'BBBB / SSNN' 'SSQQ / UUNN' 'BBBB / BBKK' 'BBBB / AABB'\n",
      " 'AAEE / SSNN' 'BBBB / AAEE' 'AABB / SSBB' 'AADD / AAEE' 'SSSN / AAEE'\n",
      " 'AADD / AABB' 'UUNN / BBKK' 'UUNN / AABB' 'AADD / UUNN' 'BBBB / UUNN'\n",
      " 'LLNN / BBKK' 'UUNN / UUHH' 'LLNN / BBBB' 'AADD / AADD' 'SSQQ / BBKK'\n",
      " 'SSQQ / SSBB' 'BBKK / BBKK' 'LLNN / LLNN' 'AADD / SSSN' 'AADD / SSNN'\n",
      " 'SSSN / SSSN' 'SSSN / UUNN' 'AADD / SSBB' 'AAEE / UUHH' 'AABB / BBKK']\n",
      " Quantity of Rooms: 65 \n",
      "Columns: Index(['No. reserva', 'Status', 'Tipo UH', 'Vlr. diária', 'UH', 'Garantida',\n",
      "       'Chegada', 'Partida', 'Nome fantasia', 'Razão social', 'Segmento',\n",
      "       'Tarifa', 'Origem', 'Tipo hóspede', 'Adt | C1 | C2', 'Dt. reserva',\n",
      "       'Localizador', 'Dt. Cancelamento'],\n",
      "      dtype='object')\n"
     ]
    }
   ],
   "source": [
    "unique_rooms = Hotel_Profit_Raw['Tipo UH'].unique()\n",
    "print(f\"\\nUnique Room Types: \\n{unique_rooms}\\n Quantity of Rooms: {len(unique_rooms)} \\nColumns: {raw_columns}\")"
   ]
  },
  {
   "cell_type": "code",
   "execution_count": 7,
   "metadata": {},
   "outputs": [
    {
     "data": {
      "text/plain": [
       "Index(['No. Reservation', 'Status', 'Kind Room', 'Val. Day', 'Room',\n",
       "       'Guaranteed', 'Arrival', 'Leaving', 'Company name',\n",
       "       'Company legal name', 'Segment', 'Tax', 'Origin', 'Kind guest',\n",
       "       'Parent | Child | Baby', 'Date Reservation', 'Localizer', 'Canceling'],\n",
       "      dtype='object')"
      ]
     },
     "execution_count": 7,
     "metadata": {},
     "output_type": "execute_result"
    }
   ],
   "source": [
    "to_english_cols = {\n",
    "    'No. reserva': 'No. Reservation',\n",
    "    'Status': 'Status',\n",
    "    'Tipo UH': 'Kind Room',\n",
    "    'Vlr. diária': 'Val. Day',\n",
    "    'UH': 'Room',\n",
    "    'Garantida': 'Guaranteed',\n",
    "    'Chegada': 'Arrival',\n",
    "    'Partida': 'Leaving',\n",
    "    'Nome fantasia': 'Company name',\n",
    "    'Razão social': 'Company legal name',\n",
    "    'Segmento': 'Segment',\n",
    "    'Tarifa': 'Tax',\n",
    "    'Origem': 'Origin',\n",
    "    'Tipo hóspede': 'Kind guest',\n",
    "    'Adt | C1 | C2': 'Parent | Child | Baby',\n",
    "    'Dt. reserva': 'Date Reservation',\n",
    "    'Localizador': 'Localizer',\n",
    "    'Dt. Cancelamento': 'Canceling'\n",
    "}\n",
    "\n",
    "Hotel_Profit_Raw.rename(columns=to_english_cols, inplace=True)\n",
    "Hotel_Profit_Raw.columns"
   ]
  },
  {
   "cell_type": "code",
   "execution_count": 8,
   "metadata": {},
   "outputs": [
    {
     "data": {
      "text/html": [
       "<div>\n",
       "<style scoped>\n",
       "    .dataframe tbody tr th:only-of-type {\n",
       "        vertical-align: middle;\n",
       "    }\n",
       "\n",
       "    .dataframe tbody tr th {\n",
       "        vertical-align: top;\n",
       "    }\n",
       "\n",
       "    .dataframe thead th {\n",
       "        text-align: right;\n",
       "    }\n",
       "</style>\n",
       "<table border=\"1\" class=\"dataframe\">\n",
       "  <thead>\n",
       "    <tr style=\"text-align: right;\">\n",
       "      <th></th>\n",
       "      <th>No. Reservation</th>\n",
       "      <th>Status</th>\n",
       "      <th>Kind Room</th>\n",
       "      <th>Val. Day</th>\n",
       "      <th>Room</th>\n",
       "      <th>Guaranteed</th>\n",
       "      <th>Arrival</th>\n",
       "      <th>Leaving</th>\n",
       "      <th>Company name</th>\n",
       "      <th>Company legal name</th>\n",
       "      <th>Segment</th>\n",
       "      <th>Tax</th>\n",
       "      <th>Origin</th>\n",
       "      <th>Kind guest</th>\n",
       "      <th>Parent | Child | Baby</th>\n",
       "      <th>Date Reservation</th>\n",
       "      <th>Localizer</th>\n",
       "      <th>Canceling</th>\n",
       "    </tr>\n",
       "  </thead>\n",
       "  <tbody>\n",
       "    <tr>\n",
       "      <th>0</th>\n",
       "      <td>333926091</td>\n",
       "      <td>No-Show</td>\n",
       "      <td>SSNN / AABB</td>\n",
       "      <td>315.00</td>\n",
       "      <td>407.0</td>\n",
       "      <td>S</td>\n",
       "      <td>2022-09-23</td>\n",
       "      <td>2022-09-24</td>\n",
       "      <td>1.0</td>\n",
       "      <td>1.0</td>\n",
       "      <td>OTA</td>\n",
       "      <td>Tarifa Sem Café 2022</td>\n",
       "      <td>OB</td>\n",
       "      <td>Regular</td>\n",
       "      <td>2 | 0 | 0</td>\n",
       "      <td>2022-07-23</td>\n",
       "      <td>NaN</td>\n",
       "      <td>NaT</td>\n",
       "    </tr>\n",
       "    <tr>\n",
       "      <th>1</th>\n",
       "      <td>335534320</td>\n",
       "      <td>Check-out</td>\n",
       "      <td>AAEE / AAEE</td>\n",
       "      <td>227.21</td>\n",
       "      <td>810.0</td>\n",
       "      <td>S</td>\n",
       "      <td>2022-09-23</td>\n",
       "      <td>2022-09-24</td>\n",
       "      <td>2.0</td>\n",
       "      <td>2.0</td>\n",
       "      <td>OTA</td>\n",
       "      <td>Flex Sem Café 12 2023</td>\n",
       "      <td>OB</td>\n",
       "      <td>Regular</td>\n",
       "      <td>2 | 0 | 0</td>\n",
       "      <td>2022-08-05</td>\n",
       "      <td>NaN</td>\n",
       "      <td>NaT</td>\n",
       "    </tr>\n",
       "    <tr>\n",
       "      <th>2</th>\n",
       "      <td>339701767</td>\n",
       "      <td>Check-out</td>\n",
       "      <td>AAEE / AAEE</td>\n",
       "      <td>328.95</td>\n",
       "      <td>812.0</td>\n",
       "      <td>S</td>\n",
       "      <td>2022-09-23</td>\n",
       "      <td>2022-09-24</td>\n",
       "      <td>2.0</td>\n",
       "      <td>2.0</td>\n",
       "      <td>OTA</td>\n",
       "      <td>Flex 12 2023</td>\n",
       "      <td>OB</td>\n",
       "      <td>Regular</td>\n",
       "      <td>3 | 0 | 0</td>\n",
       "      <td>2022-09-21</td>\n",
       "      <td>NaN</td>\n",
       "      <td>NaT</td>\n",
       "    </tr>\n",
       "    <tr>\n",
       "      <th>5</th>\n",
       "      <td>339739111</td>\n",
       "      <td>Check-out</td>\n",
       "      <td>AAEE / AAEE</td>\n",
       "      <td>260.11</td>\n",
       "      <td>1003.0</td>\n",
       "      <td>N</td>\n",
       "      <td>2022-09-23</td>\n",
       "      <td>2022-09-24</td>\n",
       "      <td>2.0</td>\n",
       "      <td>2.0</td>\n",
       "      <td>OTA</td>\n",
       "      <td>Flex 12 2023</td>\n",
       "      <td>OB</td>\n",
       "      <td>Regular</td>\n",
       "      <td>2 | 0 | 0</td>\n",
       "      <td>2022-09-23</td>\n",
       "      <td>NaN</td>\n",
       "      <td>NaT</td>\n",
       "    </tr>\n",
       "    <tr>\n",
       "      <th>6</th>\n",
       "      <td>339739006</td>\n",
       "      <td>Check-out</td>\n",
       "      <td>AAEE / AAEE</td>\n",
       "      <td>260.11</td>\n",
       "      <td>1004.0</td>\n",
       "      <td>N</td>\n",
       "      <td>2022-09-23</td>\n",
       "      <td>2022-09-24</td>\n",
       "      <td>2.0</td>\n",
       "      <td>2.0</td>\n",
       "      <td>OTA</td>\n",
       "      <td>Flex 12 2023</td>\n",
       "      <td>OB</td>\n",
       "      <td>Regular</td>\n",
       "      <td>2 | 0 | 0</td>\n",
       "      <td>2022-09-23</td>\n",
       "      <td>NaN</td>\n",
       "      <td>NaT</td>\n",
       "    </tr>\n",
       "  </tbody>\n",
       "</table>\n",
       "</div>"
      ],
      "text/plain": [
       "   No. Reservation     Status    Kind Room  Val. Day    Room Guaranteed  \\\n",
       "0        333926091    No-Show  SSNN / AABB    315.00   407.0          S   \n",
       "1        335534320  Check-out  AAEE / AAEE    227.21   810.0          S   \n",
       "2        339701767  Check-out  AAEE / AAEE    328.95   812.0          S   \n",
       "5        339739111  Check-out  AAEE / AAEE    260.11  1003.0          N   \n",
       "6        339739006  Check-out  AAEE / AAEE    260.11  1004.0          N   \n",
       "\n",
       "     Arrival    Leaving  Company name  Company legal name Segment  \\\n",
       "0 2022-09-23 2022-09-24           1.0                 1.0     OTA   \n",
       "1 2022-09-23 2022-09-24           2.0                 2.0     OTA   \n",
       "2 2022-09-23 2022-09-24           2.0                 2.0     OTA   \n",
       "5 2022-09-23 2022-09-24           2.0                 2.0     OTA   \n",
       "6 2022-09-23 2022-09-24           2.0                 2.0     OTA   \n",
       "\n",
       "                     Tax Origin Kind guest Parent | Child | Baby  \\\n",
       "0   Tarifa Sem Café 2022     OB    Regular             2 | 0 | 0   \n",
       "1  Flex Sem Café 12 2023     OB    Regular             2 | 0 | 0   \n",
       "2           Flex 12 2023     OB    Regular             3 | 0 | 0   \n",
       "5           Flex 12 2023     OB    Regular             2 | 0 | 0   \n",
       "6           Flex 12 2023     OB    Regular             2 | 0 | 0   \n",
       "\n",
       "  Date Reservation  Localizer Canceling  \n",
       "0       2022-07-23        NaN       NaT  \n",
       "1       2022-08-05        NaN       NaT  \n",
       "2       2022-09-21        NaN       NaT  \n",
       "5       2022-09-23        NaN       NaT  \n",
       "6       2022-09-23        NaN       NaT  "
      ]
     },
     "execution_count": 8,
     "metadata": {},
     "output_type": "execute_result"
    }
   ],
   "source": [
    "Hotel_Profit_Raw.head()"
   ]
  },
  {
   "cell_type": "code",
   "execution_count": 9,
   "metadata": {},
   "outputs": [
    {
     "data": {
      "text/plain": [
       "Kind Room\n",
       "AABB / AABB    588322.60\n",
       "AABB / AAEE     65143.43\n",
       "AABB / BBKK       630.00\n",
       "AABB / SSBB      3595.50\n",
       "AABB / SSNN      6187.90\n",
       "                 ...    \n",
       "UUNN / BBKK       698.40\n",
       "UUNN / SSBB       279.00\n",
       "UUNN / SSNN       710.00\n",
       "UUNN / UUHH       720.00\n",
       "UUNN / UUNN    811323.92\n",
       "Name: Val. Day, Length: 65, dtype: float64"
      ]
     },
     "execution_count": 9,
     "metadata": {},
     "output_type": "execute_result"
    }
   ],
   "source": [
    "room_profit = Hotel_Profit_Raw.groupby('Kind Room')['Val. Day'].sum()\n",
    "room_profit"
   ]
  },
  {
   "cell_type": "markdown",
   "metadata": {},
   "source": [
    "### Cálculos dos lucros"
   ]
  },
  {
   "cell_type": "markdown",
   "metadata": {},
   "source": [
    "\n",
    "- Calculamos a duração de uma reserva e multiplicamos pela diária, obtendo o lucro por quarto único\n",
    "- Calculamos a ocupação dos quartos por tipo, dividindo os quartos únicos de um determinado tipo pelo número total de quartos desse mesmo tipo que aparecem na tabela\n",
    "- Calculamos o lucro por tipo de quarto, agora somando os valores por tipo e apresentando numa tabela reduzida"
   ]
  },
  {
   "cell_type": "markdown",
   "metadata": {},
   "source": [
    "Calculando quantos dias cada reserva durou"
   ]
  },
  {
   "cell_type": "code",
   "execution_count": 10,
   "metadata": {},
   "outputs": [
    {
     "name": "stdout",
     "output_type": "stream",
     "text": [
      "Different quantities of reservations stay-days: \n",
      " [ 1  2  3  4  5  6  7  0  8  9 10 12 11 33 32 19 13 30 28 16 29 14 25 15\n",
      " 24]\n"
     ]
    }
   ],
   "source": [
    "Hotel_Profit_Raw['Arrival'] = pd.to_datetime(Hotel_Profit_Raw['Arrival'])\n",
    "Hotel_Profit_Raw['Leaving'] = pd.to_datetime(Hotel_Profit_Raw['Leaving'])\n",
    "Hotel_Profit_Raw['Stay_Duration'] = (Hotel_Profit_Raw['Leaving'] - Hotel_Profit_Raw['Arrival']).dt.days\n",
    "print(f\"Different quantities of reservations stay-days: \\n {Hotel_Profit_Raw['Stay_Duration'].unique()}\")"
   ]
  },
  {
   "cell_type": "markdown",
   "metadata": {},
   "source": [
    "Calculando lucro de cada reserva por dias reservados"
   ]
  },
  {
   "cell_type": "code",
   "execution_count": 11,
   "metadata": {},
   "outputs": [
    {
     "name": "stdout",
     "output_type": "stream",
     "text": [
      "Different quantities of monthly incomes from reservations: \n",
      " (array([315.  , 227.21, 328.95, ..., 325.12, 483.79, 358.48]), 2181)\n"
     ]
    }
   ],
   "source": [
    "Hotel_Profit_Raw['Monthly Room Profit'] = Hotel_Profit_Raw['Stay_Duration'] * Hotel_Profit_Raw['Val. Day']\n",
    "print(f\"Different quantities of monthly incomes from reservations: \\n {Hotel_Profit_Raw['Monthly Room Profit'].unique(), len(Hotel_Profit_Raw['Monthly Room Profit'].unique())}\")"
   ]
  },
  {
   "cell_type": "code",
   "execution_count": 12,
   "metadata": {},
   "outputs": [
    {
     "data": {
      "text/plain": [
       "0    315.00\n",
       "1    227.21\n",
       "2    328.95\n",
       "5    260.11\n",
       "6    260.11\n",
       "Name: Monthly Room Profit, dtype: float64"
      ]
     },
     "execution_count": 12,
     "metadata": {},
     "output_type": "execute_result"
    }
   ],
   "source": [
    "Hotel_Profit_Raw['Monthly Room Profit'].head()"
   ]
  },
  {
   "cell_type": "code",
   "execution_count": 13,
   "metadata": {},
   "outputs": [
    {
     "data": {
      "text/plain": [
       "11310.0"
      ]
     },
     "execution_count": 13,
     "metadata": {},
     "output_type": "execute_result"
    }
   ],
   "source": [
    "Hotel_Profit_Raw['Monthly Room Profit'].max()"
   ]
  },
  {
   "cell_type": "markdown",
   "metadata": {},
   "source": [
    "Lucro total em todos os tipos de quartos"
   ]
  },
  {
   "cell_type": "code",
   "execution_count": 14,
   "metadata": {},
   "outputs": [
    {
     "data": {
      "text/plain": [
       "5251764.62"
      ]
     },
     "execution_count": 14,
     "metadata": {},
     "output_type": "execute_result"
    }
   ],
   "source": [
    "Hotel_Profit_Raw['Monthly Room Profit'].sum()"
   ]
  },
  {
   "cell_type": "markdown",
   "metadata": {},
   "source": [
    "Cálculos de ocupação de quartos e lucro por tipo de quarto"
   ]
  },
  {
   "cell_type": "code",
   "execution_count": 15,
   "metadata": {},
   "outputs": [
    {
     "data": {
      "text/plain": [
       "Kind Room\n",
       "AABB / AABB    29.750000\n",
       "AABB / AAEE     3.694444\n",
       "AABB / BBKK     1.000000\n",
       "AABB / SSBB     1.125000\n",
       "AABB / SSNN     1.222222\n",
       "                 ...    \n",
       "UUNN / BBKK     1.000000\n",
       "UUNN / SSBB     1.000000\n",
       "UUNN / SSNN     1.000000\n",
       "UUNN / UUHH     1.000000\n",
       "UUNN / UUNN    45.255319\n",
       "Name: Room, Length: 65, dtype: float64"
      ]
     },
     "execution_count": 15,
     "metadata": {},
     "output_type": "execute_result"
    }
   ],
   "source": [
    "new_data = Hotel_Profit_Raw[['Kind Room', 'Room', 'Monthly Room Profit']].copy()\n",
    "\n",
    "# Cálculo da ocupação por quartos\n",
    "# Para saber a ocupação dos quartos por tipo, \n",
    "# estamos dividindo os quartos únicos de um determinado tipo pelo número total de quartos desse mesmo tipo que aparecem na tabela\n",
    "room_occupancy = new_data.groupby('Kind Room')['Room'].count() / new_data.groupby('Kind Room')['Room'].nunique()\n",
    "room_occupancy"
   ]
  },
  {
   "cell_type": "code",
   "execution_count": 16,
   "metadata": {},
   "outputs": [
    {
     "data": {
      "text/plain": [
       "Kind Room\n",
       "AABB / AABB    1042682.75\n",
       "AABB / AAEE     115144.38\n",
       "AABB / BBKK        630.00\n",
       "AABB / SSBB       5298.00\n",
       "AABB / SSNN      12318.70\n",
       "                  ...    \n",
       "UUNN / BBKK       1396.80\n",
       "UUNN / SSBB        558.00\n",
       "UUNN / SSNN        960.00\n",
       "UUNN / UUHH        720.00\n",
       "UUNN / UUNN    1499887.28\n",
       "Name: Monthly Room Profit, Length: 65, dtype: float64"
      ]
     },
     "execution_count": 16,
     "metadata": {},
     "output_type": "execute_result"
    }
   ],
   "source": [
    "# Cálculo do lucro por tipo de quarto\n",
    "room_profit = new_data.groupby('Kind Room')['Monthly Room Profit'].sum() \n",
    "room_profit"
   ]
  },
  {
   "cell_type": "code",
   "execution_count": 17,
   "metadata": {},
   "outputs": [
    {
     "data": {
      "text/plain": [
       "5251764.62"
      ]
     },
     "execution_count": 17,
     "metadata": {},
     "output_type": "execute_result"
    }
   ],
   "source": [
    "total_profit = Hotel_Profit_Raw['Monthly Room Profit'].sum()\n",
    "total_profit"
   ]
  },
  {
   "cell_type": "code",
   "execution_count": 18,
   "metadata": {},
   "outputs": [],
   "source": [
    "def transform_df(entry_df, target_col, condition_col, dashed):\n",
    "    if dashed:\n",
    "        entry_df[target_col] = entry_df[target_col].where(entry_df[condition_col] != entry_df[condition_col].shift(), '---')\n",
    "        \n",
    "    return entry_df\n",
    "\n",
    "def show_df(entry_df, index_by):\n",
    "    display(entry_df.set_index([*index_by]))\n",
    "\n",
    "def save_df(entry_df, file_name, idx):\n",
    "    entry_df.to_excel('../Data/' + file_name, index = idx )\n",
    "    print(f\"\\nFinal DataFrame saved as {file_name}\")\n",
    "    info_str = f\"DataFrame {file_name}: {entry_df.shape[0]} linhas x {entry_df.shape[1]} colunas\"\n",
    "    print(info_str)"
   ]
  },
  {
   "cell_type": "markdown",
   "metadata": {},
   "source": [
    "#### Análise dos dados"
   ]
  },
  {
   "cell_type": "markdown",
   "metadata": {},
   "source": [
    "Como a exigência é lucro mensal, precisamos do mês para filtrar os dados.\n",
    "\n",
    "Vamos considerar o mês em que o cliente saiu do Hotel como mês que \"cai\" o lucro\n",
    "\n",
    "A não ser que nesse mercado a consideração sobre o mês do lucro seja diferente, estou assumindo na análise desta forma"
   ]
  },
  {
   "cell_type": "code",
   "execution_count": 19,
   "metadata": {},
   "outputs": [
    {
     "data": {
      "text/html": [
       "<div>\n",
       "<style scoped>\n",
       "    .dataframe tbody tr th:only-of-type {\n",
       "        vertical-align: middle;\n",
       "    }\n",
       "\n",
       "    .dataframe tbody tr th {\n",
       "        vertical-align: top;\n",
       "    }\n",
       "\n",
       "    .dataframe thead th {\n",
       "        text-align: right;\n",
       "    }\n",
       "</style>\n",
       "<table border=\"1\" class=\"dataframe\">\n",
       "  <thead>\n",
       "    <tr style=\"text-align: right;\">\n",
       "      <th></th>\n",
       "      <th></th>\n",
       "      <th>Monthly Room Profit</th>\n",
       "      <th>Total Rooms</th>\n",
       "      <th>Occupied Rooms</th>\n",
       "      <th>% Occupation</th>\n",
       "      <th>Total Monthly Profit</th>\n",
       "    </tr>\n",
       "    <tr>\n",
       "      <th>Month-Year</th>\n",
       "      <th>Kind Room</th>\n",
       "      <th></th>\n",
       "      <th></th>\n",
       "      <th></th>\n",
       "      <th></th>\n",
       "      <th></th>\n",
       "    </tr>\n",
       "  </thead>\n",
       "  <tbody>\n",
       "    <tr>\n",
       "      <th rowspan=\"5\" valign=\"top\">01/2023</th>\n",
       "      <th>AABB / AABB</th>\n",
       "      <td>315690.74</td>\n",
       "      <td>32</td>\n",
       "      <td>272</td>\n",
       "      <td>8.500000</td>\n",
       "      <td>1139770.76</td>\n",
       "    </tr>\n",
       "    <tr>\n",
       "      <th>AABB / AAEE</th>\n",
       "      <td>21040.72</td>\n",
       "      <td>17</td>\n",
       "      <td>24</td>\n",
       "      <td>1.411765</td>\n",
       "      <td>1139770.76</td>\n",
       "    </tr>\n",
       "    <tr>\n",
       "      <th>AABB / SSNN</th>\n",
       "      <td>1915.00</td>\n",
       "      <td>2</td>\n",
       "      <td>2</td>\n",
       "      <td>1.000000</td>\n",
       "      <td>1139770.76</td>\n",
       "    </tr>\n",
       "    <tr>\n",
       "      <th>AABB / UUNN</th>\n",
       "      <td>11637.78</td>\n",
       "      <td>13</td>\n",
       "      <td>15</td>\n",
       "      <td>1.153846</td>\n",
       "      <td>1139770.76</td>\n",
       "    </tr>\n",
       "    <tr>\n",
       "      <th>AADD / AABB</th>\n",
       "      <td>5619.60</td>\n",
       "      <td>5</td>\n",
       "      <td>5</td>\n",
       "      <td>1.000000</td>\n",
       "      <td>1139770.76</td>\n",
       "    </tr>\n",
       "    <tr>\n",
       "      <th>...</th>\n",
       "      <th>...</th>\n",
       "      <td>...</td>\n",
       "      <td>...</td>\n",
       "      <td>...</td>\n",
       "      <td>...</td>\n",
       "      <td>...</td>\n",
       "    </tr>\n",
       "    <tr>\n",
       "      <th rowspan=\"5\" valign=\"top\">12/2022</th>\n",
       "      <th>UUNN / AABB</th>\n",
       "      <td>684.61</td>\n",
       "      <td>1</td>\n",
       "      <td>1</td>\n",
       "      <td>1.000000</td>\n",
       "      <td>961112.07</td>\n",
       "    </tr>\n",
       "    <tr>\n",
       "      <th>UUNN / AAEE</th>\n",
       "      <td>11304.50</td>\n",
       "      <td>7</td>\n",
       "      <td>8</td>\n",
       "      <td>1.142857</td>\n",
       "      <td>961112.07</td>\n",
       "    </tr>\n",
       "    <tr>\n",
       "      <th>UUNN / BBKK</th>\n",
       "      <td>1396.80</td>\n",
       "      <td>1</td>\n",
       "      <td>1</td>\n",
       "      <td>1.000000</td>\n",
       "      <td>961112.07</td>\n",
       "    </tr>\n",
       "    <tr>\n",
       "      <th>UUNN / UUHH</th>\n",
       "      <td>400.00</td>\n",
       "      <td>1</td>\n",
       "      <td>1</td>\n",
       "      <td>1.000000</td>\n",
       "      <td>961112.07</td>\n",
       "    </tr>\n",
       "    <tr>\n",
       "      <th>UUNN / UUNN</th>\n",
       "      <td>294395.47</td>\n",
       "      <td>41</td>\n",
       "      <td>340</td>\n",
       "      <td>8.292683</td>\n",
       "      <td>961112.07</td>\n",
       "    </tr>\n",
       "  </tbody>\n",
       "</table>\n",
       "<p>230 rows × 5 columns</p>\n",
       "</div>"
      ],
      "text/plain": [
       "                        Monthly Room Profit  Total Rooms  Occupied Rooms  \\\n",
       "Month-Year Kind Room                                                       \n",
       "01/2023    AABB / AABB            315690.74           32             272   \n",
       "           AABB / AAEE             21040.72           17              24   \n",
       "           AABB / SSNN              1915.00            2               2   \n",
       "           AABB / UUNN             11637.78           13              15   \n",
       "           AADD / AABB              5619.60            5               5   \n",
       "...                                     ...          ...             ...   \n",
       "12/2022    UUNN / AABB               684.61            1               1   \n",
       "           UUNN / AAEE             11304.50            7               8   \n",
       "           UUNN / BBKK              1396.80            1               1   \n",
       "           UUNN / UUHH               400.00            1               1   \n",
       "           UUNN / UUNN            294395.47           41             340   \n",
       "\n",
       "                        % Occupation  Total Monthly Profit  \n",
       "Month-Year Kind Room                                        \n",
       "01/2023    AABB / AABB      8.500000            1139770.76  \n",
       "           AABB / AAEE      1.411765            1139770.76  \n",
       "           AABB / SSNN      1.000000            1139770.76  \n",
       "           AABB / UUNN      1.153846            1139770.76  \n",
       "           AADD / AABB      1.000000            1139770.76  \n",
       "...                              ...                   ...  \n",
       "12/2022    UUNN / AABB      1.000000             961112.07  \n",
       "           UUNN / AAEE      1.142857             961112.07  \n",
       "           UUNN / BBKK      1.000000             961112.07  \n",
       "           UUNN / UUHH      1.000000             961112.07  \n",
       "           UUNN / UUNN      8.292683             961112.07  \n",
       "\n",
       "[230 rows x 5 columns]"
      ]
     },
     "metadata": {},
     "output_type": "display_data"
    },
    {
     "name": "stdout",
     "output_type": "stream",
     "text": [
      "\n",
      "Final DataFrame saved as Hotel_Profit_Analysis.xlsx\n",
      "DataFrame Hotel_Profit_Analysis.xlsx: 230 linhas x 7 colunas\n"
     ]
    },
    {
     "data": {
      "text/html": [
       "<div>\n",
       "<style scoped>\n",
       "    .dataframe tbody tr th:only-of-type {\n",
       "        vertical-align: middle;\n",
       "    }\n",
       "\n",
       "    .dataframe tbody tr th {\n",
       "        vertical-align: top;\n",
       "    }\n",
       "\n",
       "    .dataframe thead th {\n",
       "        text-align: right;\n",
       "    }\n",
       "</style>\n",
       "<table border=\"1\" class=\"dataframe\">\n",
       "  <thead>\n",
       "    <tr style=\"text-align: right;\">\n",
       "      <th></th>\n",
       "      <th></th>\n",
       "      <th>Monthly Room Profit</th>\n",
       "      <th>Total Rooms</th>\n",
       "      <th>Occupied Rooms</th>\n",
       "      <th>% Occupation</th>\n",
       "      <th>Total Monthly Profit</th>\n",
       "    </tr>\n",
       "    <tr>\n",
       "      <th>Month-Year</th>\n",
       "      <th>Kind Room</th>\n",
       "      <th></th>\n",
       "      <th></th>\n",
       "      <th></th>\n",
       "      <th></th>\n",
       "      <th></th>\n",
       "    </tr>\n",
       "  </thead>\n",
       "  <tbody>\n",
       "    <tr>\n",
       "      <th rowspan=\"5\" valign=\"top\">01/2023</th>\n",
       "      <th>AABB / AABB</th>\n",
       "      <td>315690.74</td>\n",
       "      <td>32</td>\n",
       "      <td>272</td>\n",
       "      <td>8.500000</td>\n",
       "      <td>1139770.76</td>\n",
       "    </tr>\n",
       "    <tr>\n",
       "      <th>AABB / AAEE</th>\n",
       "      <td>21040.72</td>\n",
       "      <td>17</td>\n",
       "      <td>24</td>\n",
       "      <td>1.411765</td>\n",
       "      <td>---</td>\n",
       "    </tr>\n",
       "    <tr>\n",
       "      <th>AABB / SSNN</th>\n",
       "      <td>1915.00</td>\n",
       "      <td>2</td>\n",
       "      <td>2</td>\n",
       "      <td>1.000000</td>\n",
       "      <td>---</td>\n",
       "    </tr>\n",
       "    <tr>\n",
       "      <th>AABB / UUNN</th>\n",
       "      <td>11637.78</td>\n",
       "      <td>13</td>\n",
       "      <td>15</td>\n",
       "      <td>1.153846</td>\n",
       "      <td>---</td>\n",
       "    </tr>\n",
       "    <tr>\n",
       "      <th>AADD / AABB</th>\n",
       "      <td>5619.60</td>\n",
       "      <td>5</td>\n",
       "      <td>5</td>\n",
       "      <td>1.000000</td>\n",
       "      <td>---</td>\n",
       "    </tr>\n",
       "    <tr>\n",
       "      <th>...</th>\n",
       "      <th>...</th>\n",
       "      <td>...</td>\n",
       "      <td>...</td>\n",
       "      <td>...</td>\n",
       "      <td>...</td>\n",
       "      <td>...</td>\n",
       "    </tr>\n",
       "    <tr>\n",
       "      <th rowspan=\"5\" valign=\"top\">12/2022</th>\n",
       "      <th>UUNN / AABB</th>\n",
       "      <td>684.61</td>\n",
       "      <td>1</td>\n",
       "      <td>1</td>\n",
       "      <td>1.000000</td>\n",
       "      <td>---</td>\n",
       "    </tr>\n",
       "    <tr>\n",
       "      <th>UUNN / AAEE</th>\n",
       "      <td>11304.50</td>\n",
       "      <td>7</td>\n",
       "      <td>8</td>\n",
       "      <td>1.142857</td>\n",
       "      <td>---</td>\n",
       "    </tr>\n",
       "    <tr>\n",
       "      <th>UUNN / BBKK</th>\n",
       "      <td>1396.80</td>\n",
       "      <td>1</td>\n",
       "      <td>1</td>\n",
       "      <td>1.000000</td>\n",
       "      <td>---</td>\n",
       "    </tr>\n",
       "    <tr>\n",
       "      <th>UUNN / UUHH</th>\n",
       "      <td>400.00</td>\n",
       "      <td>1</td>\n",
       "      <td>1</td>\n",
       "      <td>1.000000</td>\n",
       "      <td>---</td>\n",
       "    </tr>\n",
       "    <tr>\n",
       "      <th>UUNN / UUNN</th>\n",
       "      <td>294395.47</td>\n",
       "      <td>41</td>\n",
       "      <td>340</td>\n",
       "      <td>8.292683</td>\n",
       "      <td>---</td>\n",
       "    </tr>\n",
       "  </tbody>\n",
       "</table>\n",
       "<p>230 rows × 5 columns</p>\n",
       "</div>"
      ],
      "text/plain": [
       "                        Monthly Room Profit  Total Rooms  Occupied Rooms  \\\n",
       "Month-Year Kind Room                                                       \n",
       "01/2023    AABB / AABB            315690.74           32             272   \n",
       "           AABB / AAEE             21040.72           17              24   \n",
       "           AABB / SSNN              1915.00            2               2   \n",
       "           AABB / UUNN             11637.78           13              15   \n",
       "           AADD / AABB              5619.60            5               5   \n",
       "...                                     ...          ...             ...   \n",
       "12/2022    UUNN / AABB               684.61            1               1   \n",
       "           UUNN / AAEE             11304.50            7               8   \n",
       "           UUNN / BBKK              1396.80            1               1   \n",
       "           UUNN / UUHH               400.00            1               1   \n",
       "           UUNN / UUNN            294395.47           41             340   \n",
       "\n",
       "                        % Occupation Total Monthly Profit  \n",
       "Month-Year Kind Room                                       \n",
       "01/2023    AABB / AABB      8.500000           1139770.76  \n",
       "           AABB / AAEE      1.411765                  ---  \n",
       "           AABB / SSNN      1.000000                  ---  \n",
       "           AABB / UUNN      1.153846                  ---  \n",
       "           AADD / AABB      1.000000                  ---  \n",
       "...                              ...                  ...  \n",
       "12/2022    UUNN / AABB      1.000000                  ---  \n",
       "           UUNN / AAEE      1.142857                  ---  \n",
       "           UUNN / BBKK      1.000000                  ---  \n",
       "           UUNN / UUHH      1.000000                  ---  \n",
       "           UUNN / UUNN      8.292683                  ---  \n",
       "\n",
       "[230 rows x 5 columns]"
      ]
     },
     "metadata": {},
     "output_type": "display_data"
    },
    {
     "name": "stdout",
     "output_type": "stream",
     "text": [
      "\n",
      "Final DataFrame saved as Hotel_Profit_Analysis_Dashed.xlsx\n",
      "DataFrame Hotel_Profit_Analysis_Dashed.xlsx: 230 linhas x 7 colunas\n"
     ]
    }
   ],
   "source": [
    "# Converter para datetime\n",
    "Hotel_Profit_Raw['Arrival'] = pd.to_datetime(Hotel_Profit_Raw['Arrival'])\n",
    "Hotel_Profit_Raw['Leaving'] = pd.to_datetime(Hotel_Profit_Raw['Leaving'])\n",
    "\n",
    "# Definição da base comparativa para o lucro mês a mês: no final da estadia do cliente\n",
    "Hotel_Profit_Raw['Month-Year'] = Hotel_Profit_Raw['Leaving'].dt.strftime('%m/%Y')\n",
    "\n",
    "# Novo dataframe com coluna Month-Year\n",
    "monthly_grouped_data = Hotel_Profit_Raw[['Month-Year', 'Kind Room', 'Room', 'Monthly Room Profit']].copy()\n",
    "\n",
    "# Data frame final agrupado por 'Month-Year' e 'Kind Room' conforme a especificação, e com a soma de 'Room Profit', dessa vez, por mês e tipo de quarto\n",
    "Hotel_Profit = monthly_grouped_data.groupby(['Month-Year', 'Kind Room']).agg({'Monthly Room Profit': 'sum'}).reset_index()\n",
    "\n",
    "# Cálculo do total de quartos da 'Kind Room', mensal\n",
    "total_rooms = monthly_grouped_data.groupby(['Month-Year', 'Kind Room'])['Room'].nunique().reset_index()\n",
    "total_rooms = total_rooms.rename(columns={'Room': 'Total Rooms'})\n",
    "\n",
    "# Cálculo do total de quartos ocupados para cada tipo 'Kind Room', mensal\n",
    "occupied_rooms = monthly_grouped_data.groupby(['Month-Year', 'Kind Room'])['Room'].count().reset_index()\n",
    "occupied_rooms = occupied_rooms.rename(columns={'Room': 'Occupied Rooms'})\n",
    "\n",
    "# Mergear as variáveis novas para o cálculo de ocupação (uma das exigências), mensal, no dataframe final\n",
    "Hotel_Profit = pd.merge(Hotel_Profit, total_rooms, on=['Month-Year', 'Kind Room'], how='left')\n",
    "Hotel_Profit = pd.merge(Hotel_Profit, occupied_rooms, on=['Month-Year', 'Kind Room'], how='left')\n",
    "\n",
    "# Cálculo de ocupação dos quartos, porcentagem de ocupação '% Occupation': Quartos ocupados / Total de quartos\n",
    "# já com número mensal das variáveis anteriores\n",
    "# se 0/0, considera 0\n",
    "Hotel_Profit['% Occupation'] = np.where(\\\n",
    "    (Hotel_Profit['Occupied Rooms'] == 0) & (Hotel_Profit['Total Rooms'] == 0), 0, Hotel_Profit['Occupied Rooms'] / Hotel_Profit['Total Rooms'] )\n",
    "\n",
    "# Cálculo do lucro total mensal, por cada mês de conclusão de reserva do cliente\n",
    "monthly_total_profit = Hotel_Profit_Raw.groupby('Month-Year')['Monthly Room Profit'].sum().reset_index()\n",
    "monthly_total_profit = monthly_total_profit.rename(columns={'Monthly Room Profit': 'Total Monthly Profit'})\n",
    "\n",
    "# Merge do total mensal no dataframe final\n",
    "Hotel_Profit = pd.merge(Hotel_Profit, monthly_total_profit, on='Month-Year', how='left')\n",
    "show_df(Hotel_Profit, ('Month-Year', 'Kind Room'))\n",
    "save_df(Hotel_Profit, 'Hotel_Profit_Analysis.xlsx', False)\n",
    "\n",
    "Hotel_Profit_Treated_Dashed = transform_df(Hotel_Profit, 'Total Monthly Profit', 'Month-Year', True)\n",
    "\n",
    "show_df(Hotel_Profit_Treated_Dashed, ('Month-Year', 'Kind Room'))\n",
    "save_df(Hotel_Profit_Treated_Dashed, 'Hotel_Profit_Analysis_Dashed.xlsx', False)"
   ]
  },
  {
   "cell_type": "markdown",
   "metadata": {},
   "source": [
    "Análise do dataset relativo aos lucros por quarto"
   ]
  },
  {
   "cell_type": "code",
   "execution_count": 20,
   "metadata": {},
   "outputs": [
    {
     "name": "stdout",
     "output_type": "stream",
     "text": [
      "Start Date: 2022-09-23 00:00:00\n",
      "Finish Date: 2023-03-22 00:00:00\n",
      "Time Passed: 0 years 5 months\n",
      "Number of Unique Company Names: 80\n",
      "Number of Unique Segments: 11\n",
      "Number of Unique Room Types: 65\n",
      "Total Profit across 5 months: 5.251.764.620\n",
      "O grande número de tipos de quartos no dataset sugere a presença de vários hotéis.\n"
     ]
    }
   ],
   "source": [
    "oldest_date = Hotel_Profit_Raw['Arrival'].min()\n",
    "latest_date = Hotel_Profit_Raw['Leaving'].max()\n",
    "\n",
    "time_difference = relativedelta(latest_date, oldest_date)\n",
    "\n",
    "time_difference_str = (\n",
    "    f\"{time_difference.years} years {time_difference.months} months\"\n",
    ")\n",
    "\n",
    "print(f\"Start Date: {oldest_date}\")\n",
    "print(f\"Finish Date: {latest_date}\")\n",
    "print(f\"Time Passed: {time_difference_str}\")\n",
    "\n",
    "num_unique_companies = Hotel_Profit_Raw['Company name'].nunique()\n",
    "print(f\"Number of Unique Company Names: {num_unique_companies}\")\n",
    "\n",
    "num_unique_segments = Hotel_Profit_Raw['Segment'].nunique()\n",
    "print(f\"Number of Unique Segments: {num_unique_segments}\")\n",
    "\n",
    "num_unique_room_types = Hotel_Profit_Raw['Kind Room'].nunique()\n",
    "print(f\"Number of Unique Room Types: {num_unique_room_types}\")\n",
    "\n",
    "total_profit = Hotel_Profit_Raw['Monthly Room Profit'].sum()\n",
    "formatted_total_profit = f\"{total_profit:_.3f}\".replace(\"_\", \".\")\n",
    "print(f\"Total Profit across 5 months: {formatted_total_profit}\")\n",
    "\n",
    "if num_unique_room_types > 10:\n",
    "    print(\"O grande número de tipos de quartos no dataset sugere a presença de vários hotéis.\")\n",
    "else:\n",
    "    print(\"O dataset representa um único hotel com uma pequena variedade de tipos de quartos.\")\n"
   ]
  },
  {
   "cell_type": "markdown",
   "metadata": {},
   "source": [
    "Na análise foi realizado:\n",
    "- Descartamos linhas repetidas, reduzindo de 9 mil para cerca de 7 mil linhas únicas\n",
    "- Checamos o número que tipos diferentes de quartos\n",
    "- Checamos as datas de início e fim das reservas, nos dando um período de cerca de 5 meses\n",
    "\n",
    "\n",
    "- A quantidade de empresas é de 80, o que fortalece a teoria de que são empresas de turismo que gerenciam diversos/mais de um dos Hotéis\n",
    "- Os Segmentos são 11, podem indicar ainda diversas coisas dependendo do contexto, mas pode-se assumir que tratam de diferentes tipos de clientes, regiões ou tipos turísticos (por exemplo: unicamente turistico, corporativo, por temporada) ou ainda também, faixas de preço\n",
    "- Os tipos de quarto e lucro são os fatores que mais indicam que pode se tratar de mais de um prédio único, mais de um hotel\n",
    "\n",
    "Conclusões:\n",
    "\n",
    "Tendo 65 tipos de quartos não caberia num único Hotel. É muito mais provável que o dataset esteja tratando de mais do que um prédio, uma rede de hotéis.\n",
    "\n",
    "Creio que todos esses números podem sustentar isso, pois temos diversas empresas no dataset na coluna Razão Social/Nome Fantasia.\n",
    "\n",
    "Sem contexto, mas pensando um pouco sobre os dados isso pode segurir que são diversas empresas que gerenciam cada um dos Hotéis ou mesmo que algumas gerenciam mais de um.\n",
    "\n",
    "Também o valor do lucro por tipo de quartos no período de apenas 5 meses, dando mais de R$ 5 milhões também dá mais força a essa tese.\n",
    "\n",
    "Claro, tendo acesso ao contexto completo do dataset facilitaria bastante essas conclusões, porém, trabalhando com o contexto simples que tenho, é a isso que posso chegar.\n",
    "\n",
    "Creio que seja razoável a um hotel ter até 10 tipos diferentes de quarto, mas 65 parece muito para uma única locação física. \n",
    "\n",
    "Juntando isso com 11 segmentos diferentes, um lucro de 5 milhões em 5 meses e 80 empresas diferentes possivelmente gerenciando, isso pra mim confirma que se trata de uma rede de hotéis que atua em vários segmentos de público e preço"
   ]
  }
 ],
 "metadata": {
  "kernelspec": {
   "display_name": "Data_Science",
   "language": "python",
   "name": "python3"
  },
  "language_info": {
   "codemirror_mode": {
    "name": "ipython",
    "version": 3
   },
   "file_extension": ".py",
   "mimetype": "text/x-python",
   "name": "python",
   "nbconvert_exporter": "python",
   "pygments_lexer": "ipython3",
   "version": "3.10.12"
  },
  "orig_nbformat": 4
 },
 "nbformat": 4,
 "nbformat_minor": 2
}
